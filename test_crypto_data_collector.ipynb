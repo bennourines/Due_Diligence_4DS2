{
 "cells": [
  {
   "cell_type": "markdown",
   "metadata": {},
   "source": [
    "# Crypto Data Collector Test Notebook\n",
    "\n",
    "This notebook demonstrates how to test the functionality of the CryptoDataCollector. Follow these steps:\n",
    "\n",
    "1. **Install Dependencies**: Make sure you have installed all required packages such as `selenium`, `requests`, `beautifulsoup4`, `pymongo`, `psycopg2`, `textblob`, and `python-dotenv`.\n",
    "\n",
    "2. **Configure Environment**: Create a `.env` file in the project root containing the following keys (with your actual values):\n",
    "   - `COINGECKO_API_KEY`\n",
    "   - `POSTGRES_URL`\n",
    "   - `MONGO_URL`\n",
    "\n",
    "3. **Make Sure the Collector Code is Available**: Ensure that the `crypto_data_collector.py` file (with the `CryptoDataCollector` and related classes) is in the same directory as this notebook or is reachable through your PYTHONPATH.\n",
    "\n",
    "4. **Run the Test Function**: The cell below defines a test function that creates an instance of `CryptoDataCollector` and runs a single cycle to fetch price data and scrape crypto news.\n",
    "\n",
    "5. **Observe the Logs and Results**: If everything is configured correctly, you should see log messages indicating a successful collection cycle.\n",
    "\n",
    "Now, proceed to run the test cell."
   ]
  },
  {
   "cell_type": "code",
   "execution_count": 5,
   "metadata": {},
   "outputs": [
    {
     "name": "stderr",
     "output_type": "stream",
     "text": [
      "2025-02-15 15:48:01,922 - INFO - Initializing the CryptoDataCollector...\n",
      "2025-02-15 15:48:01,934 - INFO - Starting single-cycle data collection test...\n",
      "2025-02-15 15:48:02,031 - INFO - Wrote 2 rows to market_data.csv\n",
      "2025-02-15 15:48:02,031 - INFO - Data collection cycle completed successfully.\n",
      "2025-02-15 15:48:02,044 - INFO - Data collection test completed successfully.\n"
     ]
    }
   ],
   "source": [
    "import logging\n",
    "\n",
    "# Import the CryptoDataCollector class from your crypto_data_collector.py file\n",
    "from crypto_data_collector import CryptoDataCollector\n",
    "\n",
    "def test_collect_data():\n",
    "    \"\"\"Test function to run a single data collection cycle.\"\"\"\n",
    "    logger = logging.getLogger('TestCryptoDataCollector')\n",
    "    logger.setLevel(logging.INFO)\n",
    "    handler = logging.StreamHandler()\n",
    "    formatter = logging.Formatter('%(asctime)s - %(levelname)s - %(message)s')\n",
    "    handler.setFormatter(formatter)\n",
    "    if not logger.hasHandlers():\n",
    "        logger.addHandler(handler)\n",
    "\n",
    "    try:\n",
    "        logger.info(\"Initializing the CryptoDataCollector...\")\n",
    "        collector = CryptoDataCollector()\n",
    "        logger.info(\"Starting single-cycle data collection test...\")\n",
    "        collector.collect_all_data()  \n",
    "        logger.info(\"Data collection test completed successfully.\")\n",
    "    except Exception as e:\n",
    "        logger.error(f\"Test failed: {e}\")\n",
    "\n",
    "# Execute the test function\n",
    "test_collect_data()"
   ]
  },
  {
   "cell_type": "code",
   "execution_count": 3,
   "metadata": {},
   "outputs": [
    {
     "name": "stderr",
     "output_type": "stream",
     "text": [
      "2025-02-15 15:47:10,694 - INFO - Initializing the CryptoDataCollector...\n",
      "2025-02-15 15:47:10,710 - INFO - Starting single-cycle data collection test...\n",
      "2025-02-15 15:47:10,851 - INFO - Wrote 2 rows to market_data.csv\n",
      "2025-02-15 15:47:10,851 - INFO - Data collection cycle completed successfully.\n",
      "2025-02-15 15:47:10,851 - INFO - Data collection test completed successfully.\n"
     ]
    }
   ],
   "source": [
    "import logging\n",
    "from crypto_data_collector import CryptoDataCollector\n",
    "\n",
    "# Assuming the above code is already executed in your notebook, the CryptoDataCollector class is available.\n",
    "\n",
    "def test_collect_data():\n",
    "    \"\"\"Test function to run a single data collection cycle.\"\"\"\n",
    "    logger = logging.getLogger('TestCryptoDataCollector')\n",
    "    logger.setLevel(logging.INFO)\n",
    "    handler = logging.StreamHandler()\n",
    "    formatter = logging.Formatter('%(asctime)s - %(levelname)s - %(message)s')\n",
    "    handler.setFormatter(formatter)\n",
    "    if not logger.hasHandlers():\n",
    "        logger.addHandler(handler)\n",
    "    \n",
    "    try:\n",
    "        logger.info(\"Initializing the CryptoDataCollector...\")\n",
    "        collector = CryptoDataCollector()\n",
    "        logger.info(\"Starting single-cycle data collection test...\")\n",
    "        collector.collect_all_data()\n",
    "        logger.info(\"Data collection test completed successfully.\")\n",
    "    except Exception as e:\n",
    "        logger.error(f\"Test failed: {e}\")\n",
    "\n",
    "# Run the test function\n",
    "test_collect_data()"
   ]
  },
  {
   "cell_type": "code",
   "execution_count": null,
   "metadata": {},
   "outputs": [],
   "source": []
  }
 ],
 "metadata": {
  "kernelspec": {
   "display_name": "Python 3 (ipykernel)",
   "language": "python",
   "name": "python3"
  },
  "language_info": {
   "codemirror_mode": {
    "name": "ipython",
    "version": 3
   },
   "file_extension": ".py",
   "mimetype": "text/x-python",
   "name": "python",
   "nbconvert_exporter": "python",
   "pygments_lexer": "ipython3",
   "version": "3.12.7"
  }
 },
 "nbformat": 4,
 "nbformat_minor": 4
}
